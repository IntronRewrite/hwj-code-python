{
 "cells": [
  {
   "cell_type": "markdown",
   "metadata": {},
   "source": [
    "# 6.3 模型微调 - timm\n",
    "\n",
    "除了使用`torchvision.models`进行预训练以外，还有一个常见的预训练模型库，叫做`timm`，这个库是由Ross Wightman创建的。里面提供了许多计算机视觉的SOTA模型，可以当作是torchvision的扩充版本，并且里面的模型在准确度上也较高。在本章内容中，我们主要是针对这个库的预训练模型的使用做叙述，其他部分内容（数据扩增，优化器等）如果大家感兴趣，可以参考以下两个链接。\n",
    "\n",
    "- Github链接：https://github.com/rwightman/pytorch-image-models\n",
    "- 官网链接：https://fastai.github.io/timmdocs/\n",
    "  \thttps://rwightman.github.io/pytorch-image-models/\n",
    "\n",
    "## 6.3.1 timm的安装\n",
    "\n",
    "关于timm的安装，我们可以选择以下两种方式进行：\n",
    "\n",
    "1. 通过pip安装"
   ]
  },
  {
   "cell_type": "code",
   "execution_count": null,
   "metadata": {},
   "outputs": [],
   "source": [
    "!pip install timm"
   ]
  },
  {
   "cell_type": "markdown",
   "metadata": {},
   "source": [
    "## 6.3.2 如何查看预训练模型种类\n",
    "\n",
    "1. 查看timm提供的预训练模型\n",
    "   截止到2022.3.27日为止，timm提供的预训练模型已经达到了592个，我们可以通过`timm.list_models()`方法查看timm提供的预训练模型（注：本章测试代码均是在jupyter notebook上进行）"
   ]
  },
  {
   "cell_type": "code",
   "execution_count": null,
   "metadata": {},
   "outputs": [],
   "source": [
    "import timm\n",
    "avail_pretrained_models = timm.list_models(pretrained=True)\n",
    "len(avail_pretrained_models)"
   ]
  },
  {
   "cell_type": "markdown",
   "metadata": {},
   "source": [
    "查看特定模型的所有种类\n",
    "每一种系列可能对应着不同方案的模型，比如Resnet系列就包括了ResNet18，50，101等模型，我们可以在`timm.list_models()`传入想查询的模型名称（模糊查询），比如我们想查询densenet系列的所有模型。"
   ]
  },
  {
   "cell_type": "code",
   "execution_count": null,
   "metadata": {},
   "outputs": [],
   "source": [
    "all_densnet_models = timm.list_models(\"*resnet*\")\n",
    "all_densnet_models"
   ]
  },
  {
   "cell_type": "markdown",
   "metadata": {},
   "source": [
    "我们发现以列表的形式返回了所有densenet系列的所有模型。"
   ]
  },
  {
   "cell_type": "markdown",
   "metadata": {},
   "source": [
    "查看模型的具体参数\n",
    "当我们想查看下模型的具体参数的时候，我们可以通过访问模型的`default_cfg`属性来进行查看，具体操作如下"
   ]
  },
  {
   "cell_type": "code",
   "execution_count": null,
   "metadata": {},
   "outputs": [],
   "source": [
    "model = timm.create_model('resnet34', num_classes=10, pretrained=True)\n",
    "model.default_cfg"
   ]
  },
  {
   "cell_type": "markdown",
   "metadata": {},
   "source": [
    "除此之外，我们可以通过访问这个[链接](https://rwightman.github.io/pytorch-image-models/results/) 查看提供的预训练模型的准确度等信息。\n",
    "\n",
    "## 6.3.3 使用和修改预训练模型\n",
    "\n",
    "在得到我们想要使用的预训练模型后，我们可以通过`timm.create_model()`的方法来进行模型的创建，我们可以通过传入参数`pretrained=True`，来使用预训练模型。同样的，我们也可以使用跟torchvision里面的模型一样的方法查看模型的参数，类型/"
   ]
  },
  {
   "cell_type": "code",
   "execution_count": null,
   "metadata": {},
   "outputs": [],
   "source": [
    "import os\n",
    "import timm\n",
    "import torch\n",
    "local_model_path = os.path.expanduser('/home/extend2/user7/Hwj/深度神经网络代码练习/checkpoints/resnet34-333f7ec4.pth')\n",
    "# local_model_path = '~/深度神经网络代码练习/checkpoints/resnet34-333f7ec4.pth'\n",
    "model = timm.create_model('resnet34', pretrained=False)\n",
    "model.load_state_dict(torch.load(local_model_path))\n",
    "x = torch.randn(1,3,224,224)\n",
    "output = model(x)\n",
    "output.max()"
   ]
  },
  {
   "cell_type": "markdown",
   "metadata": {},
   "source": [
    "查看某一层模型参数（以第一层卷积为例）"
   ]
  },
  {
   "cell_type": "code",
   "execution_count": null,
   "metadata": {},
   "outputs": [],
   "source": [
    "list(dict(model.named_children())['conv1'].parameters())"
   ]
  },
  {
   "cell_type": "markdown",
   "metadata": {},
   "source": [
    "修改模型（将1000类改为10类输出）"
   ]
  },
  {
   "cell_type": "code",
   "execution_count": null,
   "metadata": {},
   "outputs": [],
   "source": [
    "model = timm.create_model('resnet34',num_classes=10,pretrained=False)\n",
    "x = torch.randn(1,3,224,224)\n",
    "output = model(x)\n",
    "output.shape"
   ]
  },
  {
   "cell_type": "markdown",
   "metadata": {},
   "source": [
    "改变输入通道数（比如我们传入的图片是单通道的，但是模型需要的是三通道图片）\n",
    "我们可以通过添加`in_chans=1`来改变"
   ]
  },
  {
   "cell_type": "code",
   "execution_count": 18,
   "metadata": {},
   "outputs": [],
   "source": [
    "model = timm.create_model('resnet34',num_classes=10,pretrained=False,in_chans=1)\n",
    "x = torch.randn(1,1,224,224)\n",
    "output = model(x)"
   ]
  },
  {
   "cell_type": "code",
   "execution_count": 21,
   "metadata": {},
   "outputs": [
    {
     "data": {
      "text/plain": [
       "<All keys matched successfully>"
      ]
     },
     "execution_count": 21,
     "metadata": {},
     "output_type": "execute_result"
    }
   ],
   "source": [
    "torch.save(model.state_dict(),'/home/extend2/user7/Hwj/深度神经网络代码练习/checkpoints/timm_model.pth')\n",
    "model.load_state_dict(torch.load('/home/extend2/user7/Hwj/深度神经网络代码练习/checkpoints/timm_model.pth'))"
   ]
  },
  {
   "cell_type": "code",
   "execution_count": null,
   "metadata": {},
   "outputs": [],
   "source": []
  }
 ],
 "metadata": {
  "kernelspec": {
   "display_name": "h_pytorch",
   "language": "python",
   "name": "h_pytorch"
  },
  "language_info": {
   "codemirror_mode": {
    "name": "ipython",
    "version": 3
   },
   "file_extension": ".py",
   "mimetype": "text/x-python",
   "name": "python",
   "nbconvert_exporter": "python",
   "pygments_lexer": "ipython3",
   "version": "3.9.20"
  }
 },
 "nbformat": 4,
 "nbformat_minor": 2
}
